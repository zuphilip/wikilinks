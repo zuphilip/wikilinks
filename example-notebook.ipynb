{
 "cells": [
  {
   "cell_type": "markdown",
   "metadata": {},
   "source": [
    "# Notebook"
   ]
  },
  {
   "cell_type": "code",
   "execution_count": 1,
   "metadata": {},
   "outputs": [],
   "source": [
    "!pip install wikilinks --user -q"
   ]
  },
  {
   "cell_type": "code",
   "execution_count": 2,
   "metadata": {},
   "outputs": [],
   "source": [
    "from wikilinks import wikilinks"
   ]
  },
  {
   "cell_type": "code",
   "execution_count": 3,
   "metadata": {},
   "outputs": [
    {
     "name": "stdout",
     "output_type": "stream",
     "text": [
      "('https://ca.wikipedia.org/wiki/Amerigo_Vespucci', 'http://mith.umd.edu//eada/html/display.php?docs=vespucci_letters.xml')\n",
      "('https://de.wikipedia.org/wiki/Lisa_Monaco', 'http://mith.umd.edu/WomensStudies/GenderIssues/Violence+Women/ResponsetoRape/introduction')\n",
      "('https://de.wikipedia.org/wiki/Buenaventura_River', 'http://mith.umd.edu/eada/gateway/diario/')\n",
      "('https://de.wikipedia.org/wiki/Sarah_Kemble_Knight', 'http://mith.umd.edu/eada/html/display.php?docs=knight_journal.xml')\n",
      "('https://de.wikipedia.org/wiki/Klapperschlangen', 'http://mith.umd.edu/eada/html/display.php?docs=smith_map.xml')\n",
      "('https://de.wikipedia.org/wiki/Theater_(Bauwerk)', 'http://mith.umd.edu/theatrefinder/')\n",
      "('https://en.wikipedia.org/wiki/User:Mastersplinter/Making_the_History_of_1989', 'http://mith.umd.edu/')\n",
      "('https://en.wikipedia.org/wiki/University_of_Maryland_Libraries', 'http://mith.umd.edu/')\n",
      "('https://en.wikipedia.org/wiki/User:Walker222', 'http://mith.umd.edu')\n",
      "('https://en.wikipedia.org/wiki/Maryland_Institute_for_Technology_in_the_Humanities', 'http://mith.umd.edu/')\n",
      "('https://en.wikipedia.org/wiki/User:Edsu', 'http://mith.umd.edu')\n",
      "('https://en.wikipedia.org/wiki/University_of_Maryland_College_of_Information_Studies', 'http://mith.umd.edu/')\n",
      "('https://en.wikipedia.org/wiki/Antonia%27s_Line', 'http://mith.umd.edu//WomensStudies/FilmReviews/antonias-line-mcalister')\n",
      "('https://en.wikipedia.org/wiki/Rio_Nutrias', 'http://mith.umd.edu//eada/gateway/diario/diary.html')\n",
      "('https://en.wikipedia.org/wiki/Rio_Nutria_(Zuni_River_tributary)', 'http://mith.umd.edu//eada/gateway/diario/diary.html')\n",
      "('https://en.wikipedia.org/wiki/Nutrioso,_Arizona', 'http://mith.umd.edu//eada/gateway/diario/diary.html')\n",
      "('https://en.wikipedia.org/wiki/Marilee_Lindemann', 'http://mith.umd.edu/2008/01/')\n",
      "('https://en.wikipedia.org/wiki/User:Keilana/Women_scientist_resources', 'http://mith.umd.edu/WomensStudies/Bibliographies/ScienceBiblio/science-pt2')\n",
      "('https://en.wikipedia.org/wiki/Wikipedia:Articles_for_deletion/Maria_Ford', 'http://mith.umd.edu/WomensStudies/FilmReviews/S/some-nudity-burdette.html')\n",
      "('https://en.wikipedia.org/wiki/Wikipedia:Articles_for_deletion/Log/2015_January_14', 'http://mith.umd.edu/WomensStudies/FilmReviews/S/some-nudity-burdette.html')\n",
      "('https://en.wikipedia.org/wiki/Talk:Colors_of_the_Wind', 'http://mith.umd.edu/WomensStudies/FilmReviews/pocahontas-strong')\n",
      "('https://en.wikipedia.org/wiki/Lisa_Monaco', 'http://mith.umd.edu/WomensStudies/GenderIssues/Violence+Women/ResponsetoRape/introduction')\n",
      "('https://en.wikipedia.org/wiki/Ruby_Doris_Smith-Robinson', 'http://mith.umd.edu/WomensStudies/ReadingRoom/BookReviews/fleming.html')\n",
      "('https://en.wikipedia.org/wiki/Wikipedia:Articles_for_deletion/When_We_Dead_Awaken:_Writing_as_Re-Vision', 'http://mith.umd.edu/WomensStudies/Syllabi/Theory/theory5-feminist')\n",
      "('https://en.wikipedia.org/wiki/Wikipedia:Articles_for_deletion/Log/2011_December_20', 'http://mith.umd.edu/WomensStudies/Syllabi/Theory/theory5-feminist')\n",
      "('https://en.wikipedia.org/wiki/Maryland_Institute_for_Technology_in_the_Humanities', 'http://mith.umd.edu/blog/')\n",
      "('https://en.wikipedia.org/wiki/Wikipedia:Categories_for_discussion/Log/2012_November_8', 'http://mith.umd.edu/crge/ird/pdf_entry.php?id=86')\n",
      "('https://en.wikipedia.org/wiki/University_of_Maryland_Libraries', 'http://mith.umd.edu/dan-cohen-and-more-speak-at-miths-reception/')\n",
      "('https://en.wikipedia.org/wiki/Digital_Humanities_conference', 'http://mith.umd.edu/dh09/')\n",
      "('https://en.wikipedia.org/wiki/Wikipedia:Meetup/DC/Archive', 'http://mith.umd.edu/dhwi/events/edit-a-thon/')\n",
      "('https://en.wikipedia.org/wiki/Michael_Witmore', 'http://mith.umd.edu/dialogues/shakespeare-from-the-waist-down/')\n",
      "('https://en.wikipedia.org/wiki/Plymouth,_Massachusetts', 'http://mith.umd.edu/eada/html/display.php?docs=bradford_history.xml')\n",
      "('https://en.wikipedia.org/wiki/Pequot_War', 'http://mith.umd.edu/eada/html/display.php?docs=bradford_history.xml')\n",
      "('https://en.wikipedia.org/wiki/Christopher_Columbus%27s_journal', 'http://mith.umd.edu/eada/html/display.php?docs=columbus_journal.xml')\n",
      "('https://en.wikipedia.org/wiki/Catalina_de_Erauso', 'http://mith.umd.edu/eada/html/display.php?docs=erauso_autobiography.xml&amp;action=show')\n",
      "('https://en.wikipedia.org/wiki/Hernando_de_Soto', 'http://mith.umd.edu/eada/html/display.php?docs=garcilaso_florida.xml&amp;action=show')\n",
      "('https://en.wikipedia.org/wiki/History_of_Norwalk,_Connecticut', 'http://mith.umd.edu/eada/html/display.php?docs=hamilton_itinerarium.xml')\n",
      "('https://en.wikipedia.org/wiki/Sarah_Kemble_Knight', 'http://mith.umd.edu/eada/html/display.php?docs=knight_journal.xml&amp;action=show')\n",
      "('https://en.wikipedia.org/wiki/George_Whitefield', 'http://mith.umd.edu/eada/html/display.php?docs=wheatley_onthedeathoftherevmrgeorge.xml')\n",
      "('https://en.wikipedia.org/wiki/User:Hamsindh/sandbox/plannedobsolescence', 'http://mith.umd.edu/engl668k/?page_id=42')\n",
      "('https://en.wikipedia.org/wiki/Planned_Obsolescence_(book)', 'http://mith.umd.edu/engl668k/?page_id=42')\n",
      "('https://en.wikipedia.org/wiki/Maryland_Institute_for_Technology_in_the_Humanities', 'http://mith.umd.edu/larsen/dlcs/')\n",
      "('https://en.wikipedia.org/wiki/Talk:Maryland_Institute_for_Technology_in_the_Humanities', 'http://mith.umd.edu/larsen/dlcs/')\n",
      "('https://en.wikipedia.org/wiki/Maryland_Institute_for_Technology_in_the_Humanities', 'http://mith.umd.edu/mto/')\n",
      "('https://en.wikipedia.org/wiki/The_Black_Crook', 'http://mith.umd.edu/mto/ebooks/BlackCrook.html')\n",
      "('https://en.wikipedia.org/wiki/Maryland_Institute_for_Technology_in_the_Humanities', 'http://mith.umd.edu/research/?project=11')\n",
      "('https://en.wikipedia.org/wiki/Maryland_Institute_for_Technology_in_the_Humanities', 'http://mith.umd.edu/research/?project=38')\n",
      "('https://en.wikipedia.org/wiki/User:Rogerssm/sandbox', 'http://mith.umd.edu/research/bill-bly-collection/')\n",
      "('https://en.wikipedia.org/wiki/Draft:Bill_Bly', 'http://mith.umd.edu/research/bill-bly-collection/')\n",
      "('https://en.wikipedia.org/wiki/Irvin_Kershner', 'http://mith.umd.edu/research/mined-to-death-documentary-film/')\n",
      "('https://en.wikipedia.org/wiki/Topic_model', 'http://mith.umd.edu/topic-modeling-in-the-humanities-an-overview/')\n",
      "('https://en.wikipedia.org/wiki/User:The_Vintage_Feminist/Evelina_Giobbe', 'http://mith.umd.edu/womensstudies/ReferenceRoom/Publications/pornography-conference-tapes.html')\n",
      "('https://es.wikipedia.org/wiki/Catalina_de_Erauso', 'http://mith.umd.edu/eada/html/display.php?docs=erauso_autobiography.xml&amp;action=show')\n",
      "('https://es.wikipedia.org/wiki/Catalina_de_Erauso', 'http://mith.umd.edu/eada/html/display.php?docs=erauso_autobiography.xml')\n",
      "('https://es.wikipedia.org/wiki/Pratibha_Parmar', 'http://mith.umd.edu/womensstudies/ReferenceRoom/Publications/about-sheba-press.html')\n",
      "('https://fr.wikipedia.org/wiki/Histoire_num%C3%A9rique', 'http://mith.umd.edu/')\n",
      "('https://he.wikipedia.org/wiki/%D7%92%D7%A0%D7%99%D7%A1%D7%95%D7%9F_(%D7%A0%D7%94%D7%A8)', 'http://mith.umd.edu//eada/gateway/diario/diary.html')\n",
      "('https://hu.wikipedia.org/wiki/Pokahontasz', 'http://mith.umd.edu//eada/html/display.php?docs=smith_truerelation.xml&amp;action=show')\n",
      "('https://hu.wikipedia.org/wiki/John_Smith_(felfedez%C5%91)', 'http://mith.umd.edu//eada/html/display.php?docs=smith_truerelation.xml&amp;action=show')\n",
      "('https://it.wikipedia.org/wiki/Progetto:WikiDonne/Biblioteca', 'http://mith.umd.edu/GenderIssues/GlassCeiling')\n",
      "('https://it.wikipedia.org/wiki/Progetto:WikiDonne/Biblioteca', 'http://mith.umd.edu/GenderIssues/HigherEdStatus')\n",
      "('https://it.wikipedia.org/wiki/Progetto:WikiDonne/Biblioteca', 'http://mith.umd.edu/GenderIssues/ReproductiveRights')\n",
      "('https://it.wikipedia.org/wiki/Progetto:WikiDonne/Biblioteca', 'http://mith.umd.edu/GenderIssues/SexDiscrimination')\n",
      "('https://it.wikipedia.org/wiki/Progetto:WikiDonne/Biblioteca', 'http://mith.umd.edu/GenderIssues/SexualHarassment')\n",
      "('https://it.wikipedia.org/wiki/Progetto:WikiDonne/Biblioteca', 'http://mith.umd.edu/GenderIssues/Violence+Women')\n",
      "('https://it.wikipedia.org/wiki/Progetto:WikiDonne/Biblioteca', 'http://mith.umd.edu/GenderIssues/Women+Art')\n",
      "('https://it.wikipedia.org/wiki/Progetto:WikiDonne/Biblioteca', 'http://mith.umd.edu/GenderIssues/WomenInWorkforce')\n",
      "('https://it.wikipedia.org/wiki/Progetto:WikiDonne/Biblioteca', 'http://mith.umd.edu/GenderIssues/WomensHealth')\n",
      "('https://it.wikipedia.org/wiki/Progetto:WikiDonne/Biblioteca', 'http://mith.umd.edu/Women+Aging/')\n",
      "('https://it.wikipedia.org/wiki/Progetto:WikiDonne/Biblioteca', 'http://mith.umd.edu/Women+Environ/')\n",
      "('https://it.wikipedia.org/wiki/Progetto:WikiDonne/Biblioteca', 'http://mith.umd.edu/women+science')\n",
      "('https://it.wikipedia.org/wiki/Progetto:WikiDonne/Biblioteca', 'http://mith.umd.edu/womensstudies/')\n",
      "('https://it.wikipedia.org/wiki/Progetto:WikiDonne/Biblioteca', 'http://mith.umd.edu/womensstudies/GenderIssues/ChillyClimate')\n"
     ]
    },
    {
     "name": "stdout",
     "output_type": "stream",
     "text": [
      "('https://ja.wikipedia.org/wiki/Apple_IIc', 'http://mith.umd.edu/vintage-computers/items/show/55')\n",
      "('https://ja.wikipedia.org/wiki/Apple_IIc', 'http://mith.umd.edu/vintage-computers/items/show/61')\n",
      "('https://nl.wikipedia.org/wiki/Joseph_Rauh', 'http://mith.umd.edu//WomensStudies/GovernmentPolitics/WhiteHouse/SpeechesRemarks/medal-of-freedom-ceremony')\n",
      "('https://vi.wikipedia.org/wiki/Hernando_de_Soto', 'http://mith.umd.edu/eada/html/display.php?docs=garcilaso_florida.xml&amp;action=show')\n"
     ]
    }
   ],
   "source": [
    "for link in wikilinks(\"http://mith.umd.edu\"):\n",
    "    print(link)"
   ]
  },
  {
   "cell_type": "code",
   "execution_count": 4,
   "metadata": {},
   "outputs": [
    {
     "name": "stdout",
     "output_type": "stream",
     "text": [
      "('https://de.wikipedia.org/wiki/Lisa_Monaco', 'http://mith.umd.edu/WomensStudies/GenderIssues/Violence+Women/ResponsetoRape/introduction')\n",
      "('https://de.wikipedia.org/wiki/Buenaventura_River', 'http://mith.umd.edu/eada/gateway/diario/')\n",
      "('https://de.wikipedia.org/wiki/Sarah_Kemble_Knight', 'http://mith.umd.edu/eada/html/display.php?docs=knight_journal.xml')\n",
      "('https://de.wikipedia.org/wiki/Klapperschlangen', 'http://mith.umd.edu/eada/html/display.php?docs=smith_map.xml')\n",
      "('https://de.wikipedia.org/wiki/Theater_(Bauwerk)', 'http://mith.umd.edu/theatrefinder/')\n",
      "('https://fr.wikipedia.org/wiki/Histoire_num%C3%A9rique', 'http://mith.umd.edu/')\n"
     ]
    }
   ],
   "source": [
    "for link in wikilinks(\"http://mith.umd.edu\", [\"de\", \"fr\"]):\n",
    "    print(link)"
   ]
  }
 ],
 "metadata": {
  "kernelspec": {
   "display_name": "Python 3",
   "language": "python",
   "name": "python3"
  },
  "language_info": {
   "codemirror_mode": {
    "name": "ipython",
    "version": 3
   },
   "file_extension": ".py",
   "mimetype": "text/x-python",
   "name": "python",
   "nbconvert_exporter": "python",
   "pygments_lexer": "ipython3",
   "version": "3.6.3"
  }
 },
 "nbformat": 4,
 "nbformat_minor": 2
}
